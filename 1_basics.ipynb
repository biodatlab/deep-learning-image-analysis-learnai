{
 "cells": [
  {
   "cell_type": "markdown",
   "metadata": {
    "id": "9NSMHo-fCrR9"
   },
   "source": [
    "# **Pytorch Basics**\n"
   ]
  },
  {
   "cell_type": "code",
   "execution_count": null,
   "metadata": {
    "id": "EVzi8_1_GEFz"
   },
   "outputs": [],
   "source": [
    "import torch\n",
    "import numpy as np"
   ]
  },
  {
   "cell_type": "code",
   "execution_count": null,
   "metadata": {
    "id": "FFa3dEFRHCIl"
   },
   "outputs": [],
   "source": [
    "# (https://towardsdatascience.com/understanding-pytorch-with-an-example-a-step-by-step-tutorial-81fc5f8c4e8e#ea0d)\n",
    "\n",
    "## Specifying at the creation\n",
    "t0 = torch.tensor([1,2])\n",
    "t1 = torch.tensor([1,2], dtype=torch.float) # set to float\n",
    "t2 =  torch.tensor([1,2], dtype=torch.float, requires_grad=True) # set as \"trainable\"\n",
    "t3 = torch.tensor([1,2], dtype=torch.float, requires_grad=True, device=\"cuda\") # send to gpu \n",
    "for i, t in enumerate([t0, t1, t2, t3]):\n",
    "  print(f\"Tensor No.{i}: {t}\")\n",
    "  print(\"=\"*50)"
   ]
  },
  {
   "cell_type": "code",
   "execution_count": null,
   "metadata": {
    "colab": {
     "base_uri": "https://localhost:8080/"
    },
    "id": "SAnXSTPrIrVK",
    "outputId": "cb483b99-c07d-45b0-845b-1ecbe27aa157"
   },
   "outputs": [
    {
     "name": "stdout",
     "output_type": "stream",
     "text": [
      "Tensor No.0: tensor([1, 2])\n",
      "==================================================\n",
      "Tensor No.1: tensor([1., 2.])\n",
      "==================================================\n",
      "Tensor No.2: tensor([1., 2.], requires_grad=True)\n",
      "==================================================\n",
      "Tensor No.3: tensor([1., 2.], device='cuda:0', grad_fn=<ToCopyBackward0>)\n",
      "==================================================\n"
     ]
    }
   ],
   "source": [
    "## Object-oriented modifications\n",
    "\n",
    "t0 = torch.tensor([1,2])\n",
    "t1 = t0.float()\n",
    "t2 =  t1.clone().requires_grad_() # set as \"trainable\"\n",
    "t3 = t2.to(\"cuda\") # send to gpu\n",
    "\n",
    "for i, t in enumerate([t0, t1, t2, t3]):\n",
    "  print(f\"Tensor No.{i}: {t}\")\n",
    "  print(\"=\"*50)"
   ]
  },
  {
   "cell_type": "code",
   "execution_count": null,
   "metadata": {
    "colab": {
     "base_uri": "https://localhost:8080/"
    },
    "id": "oRg-8wse3h6T",
    "outputId": "fcb370ae-d474-40a5-da32-67ca7050f7fb"
   },
   "outputs": [
    {
     "name": "stdout",
     "output_type": "stream",
     "text": [
      "Tensor a: tensor([0, 1, 2])\n",
      "Tensor b: tensor([[1.0000, 1.1000],\n",
      "        [1.2000, 1.3000]])\n",
      "Tensor c: tensor([[1., 1., 1.],\n",
      "        [1., 1., 1.]], dtype=torch.float64)\n"
     ]
    }
   ],
   "source": [
    "# https://deeplearning.neuromatch.io/tutorials/W1D1_BasicsAndPytorch/student/W1D1_Tutorial1.html#section-2-1-creating-tensors\n",
    "\n",
    "# tensor from a list\n",
    "a = torch.tensor([0, 1, 2])\n",
    "## Output: tensor([0, 1, 2])\n",
    "\n",
    "#tensor from a tuple of tuples\n",
    "b = ((1.0, 1.1), (1.2, 1.3))\n",
    "b = torch.tensor(b)\n",
    "## Output: tensor([[1.0000, 1.1000], [1.2000, 1.3000]])\n",
    "\n",
    "# tensor from a numpy array\n",
    "c = np.ones([2, 3])\n",
    "c = torch.tensor(c)\n",
    "## Output: tensor([[1., 1., 1.], [1., 1., 1.]], dtype=torch.float64)\n",
    "\n",
    "print(f\"Tensor a: {a}\")\n",
    "print(f\"Tensor b: {b}\")\n",
    "print(f\"Tensor c: {c}\")"
   ]
  },
  {
   "cell_type": "code",
   "execution_count": null,
   "metadata": {
    "colab": {
     "base_uri": "https://localhost:8080/"
    },
    "id": "7yd5eo323lmi",
    "outputId": "acb87329-e5fd-4345-e05f-a46b6b444c0a"
   },
   "outputs": [
    {
     "name": "stdout",
     "output_type": "stream",
     "text": [
      "Tensor x: tensor([[1., 1., 1.],\n",
      "        [1., 1., 1.],\n",
      "        [1., 1., 1.],\n",
      "        [1., 1., 1.],\n",
      "        [1., 1., 1.]])\n",
      "Tensor y: tensor([0., 0.])\n",
      "Tensor z: tensor([[[6.8394e+10, 0.0000e+00, 3.3631e-44, 0.0000e+00,        nan]]])\n"
     ]
    }
   ],
   "source": [
    "# The numerical arguments we pass to these constructors\n",
    "# determine the shape of the output tensor\n",
    "\n",
    "x = torch.ones(5, 3)\n",
    "y = torch.zeros(2)\n",
    "z = torch.empty(1, 1, 5)\n",
    "print(f\"Tensor x: {x}\")\n",
    "print(f\"Tensor y: {y}\")\n",
    "print(f\"Tensor z: {z}\")"
   ]
  },
  {
   "cell_type": "code",
   "execution_count": null,
   "metadata": {
    "colab": {
     "base_uri": "https://localhost:8080/"
    },
    "id": "rGBJ4ZJ13q2q",
    "outputId": "34b45343-16e2-4512-fdf3-4d1e8b30c9ff"
   },
   "outputs": [
    {
     "name": "stdout",
     "output_type": "stream",
     "text": [
      "Tensor a: tensor([[0.2682, 0.5959, 0.2128]])\n",
      "Tensor b: tensor([[-0.8738, -0.1772,  0.4323, -0.2663],\n",
      "        [-0.7605, -1.0207,  0.4249, -0.7663],\n",
      "        [-0.4242,  1.1462,  1.6569,  0.1874]])\n",
      "Tensor c: tensor([[0., 0., 0.]])\n",
      "Tensor d: tensor([[0.6727, 0.8597, 0.4815]])\n"
     ]
    }
   ],
   "source": [
    "# There are also constructors for random numbers\n",
    "\n",
    "# Uniform distribution\n",
    "a = torch.rand(1, 3)\n",
    "\n",
    "# Normal distribution\n",
    "b = torch.randn(3, 4)\n",
    "\n",
    "# There are also constructors that allow us to construct\n",
    "# a tensor according to the above constructors, but with\n",
    "# dimensions equal to another tensor.\n",
    "\n",
    "c = torch.zeros_like(a)\n",
    "d = torch.rand_like(c)\n",
    "\n",
    "print(f\"Tensor a: {a}\")\n",
    "print(f\"Tensor b: {b}\")\n",
    "print(f\"Tensor c: {c}\")\n",
    "print(f\"Tensor d: {d}\")"
   ]
  },
  {
   "cell_type": "markdown",
   "metadata": {
    "id": "lnBbj5VN3v0X"
   },
   "source": [
    "### Tensor operations"
   ]
  },
  {
   "cell_type": "code",
   "execution_count": null,
   "metadata": {
    "colab": {
     "base_uri": "https://localhost:8080/"
    },
    "id": "V1AM9rkA3xqm",
    "outputId": "935974bc-917b-43e4-8fcc-5cca9edd97e3"
   },
   "outputs": [
    {
     "name": "stdout",
     "output_type": "stream",
     "text": [
      "tensor([[1.3422, 1.3137, 1.4704],\n",
      "        [1.2535, 1.2245, 1.6278],\n",
      "        [1.6259, 1.2711, 1.1124],\n",
      "        [1.2396, 1.1882, 1.0181],\n",
      "        [1.5936, 1.0874, 1.7335]])\n",
      "tensor([[0.3422, 0.3137, 0.4704],\n",
      "        [0.2535, 0.2245, 0.6278],\n",
      "        [0.6259, 0.2711, 0.1124],\n",
      "        [0.2396, 0.1882, 0.0181],\n",
      "        [0.5936, 0.0874, 0.7335]])\n"
     ]
    }
   ],
   "source": [
    "a = torch.ones(5, 3)\n",
    "b = torch.rand(5, 3)\n",
    "c = torch.empty(5, 3)\n",
    "d = torch.empty(5, 3)\n",
    "\n",
    "# this only works if c and d already exist\n",
    "torch.add(a, b, out=c)\n",
    "\n",
    "# Pointwise Multiplication of a and b\n",
    "torch.multiply(a, b, out=d)\n",
    "\n",
    "print(c)\n",
    "print(d)"
   ]
  },
  {
   "cell_type": "code",
   "execution_count": null,
   "metadata": {
    "colab": {
     "base_uri": "https://localhost:8080/"
    },
    "id": "KmVIEZ1632VX",
    "outputId": "9cf8fcb9-0742-4609-d54a-c5773a1edd14"
   },
   "outputs": [
    {
     "name": "stdout",
     "output_type": "stream",
     "text": [
      "tensor([[0.9711, 0.6206, 0.3660],\n",
      "        [0.7614, 0.8319, 0.1086],\n",
      "        [0.0110, 0.1012, 0.9091]])\n",
      "\n",
      "\n",
      "Sum of every element of x: 4.680755615234375\n",
      "Sum of the columns of x: tensor([1.7434, 1.5536, 1.3837])\n",
      "Sum of the rows of x: tensor([1.9576, 1.7019, 1.0212])\n",
      "\n",
      "\n",
      "Mean value of all elements of x 0.5200839638710022\n",
      "Mean values of the columns of x tensor([0.5811, 0.5179, 0.4612])\n",
      "Mean values of the rows of x tensor([0.6525, 0.5673, 0.3404])\n"
     ]
    }
   ],
   "source": [
    "x = torch.rand(3, 3)\n",
    "print(x)\n",
    "print(\"\\n\")\n",
    "# sum() - note the axis is the axis you move across when summing\n",
    "print(f\"Sum of every element of x: {x.sum()}\")\n",
    "print(f\"Sum of the columns of x: {x.sum(axis=0)}\")\n",
    "print(f\"Sum of the rows of x: {x.sum(axis=1)}\")\n",
    "print(\"\\n\")\n",
    "\n",
    "print(f\"Mean value of all elements of x {x.mean()}\")\n",
    "print(f\"Mean values of the columns of x {x.mean(axis=0)}\")\n",
    "print(f\"Mean values of the rows of x {x.mean(axis=1)}\")"
   ]
  },
  {
   "cell_type": "code",
   "execution_count": null,
   "metadata": {
    "colab": {
     "base_uri": "https://localhost:8080/"
    },
    "id": "_mgUIAPh3_VU",
    "outputId": "e6dddc80-8a32-407a-e806-bf6e56dba017"
   },
   "outputs": [
    {
     "data": {
      "text/plain": [
       "tensor([[20, 24],\n",
       "        [31, 27]])"
      ]
     },
     "metadata": {},
     "output_type": "display_data"
    }
   ],
   "source": [
    "a1 = torch.tensor([[2, 4], [5, 7]])\n",
    "a2 = torch.tensor([[1, 1], [2, 3]])\n",
    "a3 = torch.tensor([[10, 10], [12, 1]])\n",
    "\n",
    "a1 @ a2 + a3"
   ]
  },
  {
   "cell_type": "code",
   "execution_count": null,
   "metadata": {
    "colab": {
     "base_uri": "https://localhost:8080/"
    },
    "id": "M3QpN4bvHYuH",
    "outputId": "457a6fbd-7443-4704-bb81-fdf0729234e2"
   },
   "outputs": [
    {
     "name": "stdout",
     "output_type": "stream",
     "text": [
      "tensor([[1, 2, 3, 4],\n",
      "        [5, 6, 7, 8]])\n",
      "tensor([[1, 5],\n",
      "        [2, 6],\n",
      "        [3, 7],\n",
      "        [4, 8]])\n"
     ]
    }
   ],
   "source": [
    "## https://www.geeksforgeeks.org/python-pytorch-stack-method/\n",
    "\n",
    "a1 = torch.tensor([1, 2, 3, 4])\n",
    "a2 = torch.tensor([5, 6, 7, 8])\n",
    "\n",
    "a_stacked_0 = torch.stack((a1, a2), dim = 0) # ทับ\n",
    "# Output: tensor([[1, 2, 3, 4],\n",
    "#                 [5, 6, 7, 8]])\n",
    "\n",
    "a_stacked_1 = torch.stack((a1, a2), dim = 1) # แปะข้างๆ\n",
    "# Output: tensor([[1, 5],\n",
    "#                 [2, 6],\n",
    "#                 [3, 7],\n",
    "#                 [4, 8]])"
   ]
  },
  {
   "cell_type": "code",
   "execution_count": null,
   "metadata": {
    "colab": {
     "base_uri": "https://localhost:8080/"
    },
    "id": "UNxyg2Dibzxy",
    "outputId": "74d1376d-3cd5-4198-a37e-91cf3f150e97"
   },
   "outputs": [
    {
     "name": "stdout",
     "output_type": "stream",
     "text": [
      "tensor([[1],\n",
      "        [2],\n",
      "        [3],\n",
      "        [4]])\n",
      "tensor([[1, 2],\n",
      "        [3, 4]])\n",
      "tensor([[1, 2],\n",
      "        [3, 4]])\n"
     ]
    }
   ],
   "source": [
    "a1 = torch.tensor([1, 2, 3, 4])\n",
    "\n",
    "print(a1.view(4,1))\n",
    "# Output: tensor([[1],\n",
    "#                 [2],\n",
    "#                 [3],\n",
    "#                 [4]])\n",
    "\n",
    "print(a1.view(2,2))\n",
    "# Output: tensor([[1, 2],\n",
    "                # [3, 4]])\n",
    "\n",
    "print(a1.view(-1, 2))\n",
    "# Output: tensor([[1, 2],\n",
    "#                 [3, 4]])"
   ]
  },
  {
   "cell_type": "code",
   "execution_count": null,
   "metadata": {
    "colab": {
     "base_uri": "https://localhost:8080/"
    },
    "id": "1KdFGhu9dfWO",
    "outputId": "e2c238f0-2543-471c-d751-d78a2e48783f"
   },
   "outputs": [
    {
     "name": "stdout",
     "output_type": "stream",
     "text": [
      "tensor([[[1, 2],\n",
      "         [3, 4]],\n",
      "\n",
      "        [[5, 6],\n",
      "         [7, 8]]])\n"
     ]
    }
   ],
   "source": [
    "a2 = torch.tensor([1, 2, 3, 4, 5, 6, 7, 8])\n",
    "\n",
    "print(a2.view(2,2,2))\n",
    "# Output: tensor([[[1, 2],\n",
    "#                  [3, 4]],\n",
    "\n",
    "#                 [[5, 6],\n",
    "#                  [7, 8]]])"
   ]
  },
  {
   "cell_type": "code",
   "execution_count": null,
   "metadata": {
    "colab": {
     "base_uri": "https://localhost:8080/"
    },
    "id": "j8MPgyjLe-of",
    "outputId": "7c66168b-8338-4b80-a86e-5733443b41cb"
   },
   "outputs": [
    {
     "name": "stdout",
     "output_type": "stream",
     "text": [
      "torch.Size([1, 8])\n",
      "torch.Size([8, 1])\n",
      "==================================================\n",
      "torch.Size([4, 2, 1])\n",
      "torch.Size([2, 4, 1])\n"
     ]
    }
   ],
   "source": [
    "a3 = a2.view(1,8)\n",
    "print(a3.size())\n",
    "# Output: torch.Size([1, 8])\n",
    "\n",
    "a3_t = torch.transpose(a3, 0, 1) # swap dim 0 and 1.\n",
    "print(a3_t.size())\n",
    "# Output: torch.Size([8, 1])\n",
    "\n",
    "print(\"=\"*50)\n",
    "\n",
    "a4 = a2.view(4,2,1)\n",
    "print(a4.size())\n",
    "# Output: torch.Size([4, 2, 1])\n",
    "\n",
    "a4_t = torch.transpose(a4, 0, 1) # swap dim 0 and 1\n",
    "print(a4_t.size())\n",
    "# Output: torch.Size([2, 4, 1])"
   ]
  },
  {
   "cell_type": "markdown",
   "metadata": {
    "id": "viajwFHkKeeA"
   },
   "source": [
    "## Neural Networks\n"
   ]
  },
  {
   "cell_type": "code",
   "execution_count": null,
   "metadata": {
    "id": "1MVTmcyfKhtr"
   },
   "outputs": [],
   "source": [
    "# https://pytorch.org/tutorials/beginner/blitz/neural_networks_tutorial.html\n",
    "\n",
    "import torch\n",
    "import torch.nn as nn\n",
    "import torch.nn.functional as F\n",
    "\n",
    "class Net(nn.Module):\n",
    "    def __init__(self):\n",
    "        super(Net, self).__init__()\n",
    "        self.flatten = nn.Flatten()\n",
    "        # 28 * 28 is the image dimension\n",
    "        self.fc1 = nn.Linear(28 * 28, 28)\n",
    "        # 10 is the total number of classes\n",
    "        self.fc2 = nn.Linear(28, 10)\n",
    "\n",
    "    def forward(self, x):\n",
    "      x = self.flatten(x)\n",
    "      x = self.fc1(x)\n",
    "      x = F.relu(x) # optionally apply some non-linearity here\n",
    "      x = self.fc2(x)\n",
    "      return x"
   ]
  },
  {
   "cell_type": "code",
   "execution_count": null,
   "metadata": {
    "colab": {
     "base_uri": "https://localhost:8080/"
    },
    "id": "tNLROgizPXzf",
    "outputId": "30ecc21b-9ffe-430f-c677-c71ffbbf5882"
   },
   "outputs": [
    {
     "name": "stdout",
     "output_type": "stream",
     "text": [
      "Net(\n",
      "  (flatten): Flatten(start_dim=1, end_dim=-1)\n",
      "  (fc1): Linear(in_features=784, out_features=28, bias=True)\n",
      "  (fc2): Linear(in_features=28, out_features=1, bias=True)\n",
      ")\n",
      "==================================================\n",
      "Output shape: torch.Size([1, 1])\n"
     ]
    }
   ],
   "source": [
    "net = Net()\n",
    "print(net)\n",
    "print(\"=\"*50)\n",
    "\n",
    "input = torch.randn(1, 28, 28) # ignore 1 for now\n",
    "out = net(input)\n",
    "print(f\"Output shape: {out.shape}\")"
   ]
  },
  {
   "cell_type": "markdown",
   "metadata": {
    "id": "bLVLuHOtfsbY"
   },
   "source": [
    "## Loss"
   ]
  },
  {
   "cell_type": "code",
   "execution_count": null,
   "metadata": {
    "colab": {
     "base_uri": "https://localhost:8080/"
    },
    "id": "2UWBSk6sfuQ1",
    "outputId": "9d19d2df-b44f-4015-962a-4d165ac46792"
   },
   "outputs": [
    {
     "data": {
      "text/plain": [
       "tensor(33.3333, grad_fn=<BinaryCrossEntropyBackward0>)"
      ]
     },
     "metadata": {},
     "output_type": "display_data"
    }
   ],
   "source": [
    "import torch\n",
    "import torch.nn as nn\n",
    "import torch.nn.functional as F\n",
    "\n",
    "## 1/3 incorrect\n",
    "labels = torch.tensor([1, 1, 0], dtype=torch.float) # Dog, Dog, Cat\n",
    "predictions = torch.tensor([1, 0, 0], dtype=torch.float, requires_grad=True) # Dog, Cat, Cat\n",
    "\n",
    "loss_fn = nn.BCELoss(reduction=\"mean\")\n",
    "loss = loss_fn(predictions, labels)\n",
    "\n",
    "\n",
    "loss # tensor(33.3333, grad_fn=<BinaryCrossEntropyBackward0>)"
   ]
  },
  {
   "cell_type": "markdown",
   "metadata": {
    "id": "HNJBWXOQj70k"
   },
   "source": [
    "## Gradients"
   ]
  },
  {
   "cell_type": "code",
   "execution_count": null,
   "metadata": {
    "colab": {
     "base_uri": "https://localhost:8080/"
    },
    "id": "BRlP2gpZj98S",
    "outputId": "bb37a977-8051-4959-f06d-70097ee72fc8"
   },
   "outputs": [
    {
     "name": "stdout",
     "output_type": "stream",
     "text": [
      "Gradient function = <AddBackward0 object at 0x7fe7c89eb890>\n"
     ]
    }
   ],
   "source": [
    "a = torch.tensor([1.5], requires_grad=True)\n",
    "b = torch.tensor([-1.5], requires_grad=True)\n",
    "c = a + b\n",
    "print(f'Gradient function = {c.grad_fn}')"
   ]
  },
  {
   "cell_type": "code",
   "execution_count": null,
   "metadata": {
    "id": "QcS9an07zCmM"
   },
   "outputs": [],
   "source": [
    "loss.backward()"
   ]
  },
  {
   "cell_type": "markdown",
   "metadata": {
    "id": "qkfOXWBpRvLu"
   },
   "source": [
    "## Datasets & Dataloaders"
   ]
  },
  {
   "cell_type": "code",
   "execution_count": null,
   "metadata": {
    "id": "oMbhwn4mRxvU"
   },
   "outputs": [],
   "source": [
    "from torch.utils.data import Dataset\n",
    "# import pandas as pd\n",
    "\n",
    "class AnimalDataset(Dataset):\n",
    "    def __init__(self, filenames, labels):\n",
    "        self.filenames = filenames\n",
    "        self.labels = labels\n",
    "\n",
    "    ## An alternative...\n",
    "    # def __init__(self, dataframe):\n",
    "    #     self.filenames = list(dataframe[\"filenames\"].values)\n",
    "    #     self.labels = list(dataframe[\"labels\"].values)\n",
    "        \n",
    "    def __getitem__(self, index):\n",
    "        return (self.filenames[index], self.labels[index])\n",
    "\n",
    "    def __len__(self):\n",
    "        return len(self.filenames)\n",
    "\n",
    "train_data = AnimalDataset(train_filenames, train_labels)"
   ]
  },
  {
   "cell_type": "code",
   "execution_count": null,
   "metadata": {
    "id": "E6Bk8kXfyMoL"
   },
   "outputs": [],
   "source": [
    "from torch.utils.data import DataLoader\n",
    "\n",
    "train_loader = DataLoader(dataset=train_data, batch_size=16, shuffle=True)"
   ]
  },
  {
   "cell_type": "code",
   "execution_count": null,
   "metadata": {
    "id": "41UK2wYuyeQu"
   },
   "outputs": [],
   "source": [
    "# https://pytorch.org/tutorials/beginner/basics/optimization_tutorial.html#optimizer\n",
    "\n",
    "def train_loop(dataloader, model, loss_fn, optimizer):\n",
    "    size = len(dataloader.dataset)\n",
    "    # Iterate over the dataloader\n",
    "    for batch, (X, y) in enumerate(dataloader):\n",
    "        # Compute prediction and loss\n",
    "        pred = model(X)\n",
    "        loss = loss_fn(pred, y)\n",
    "\n",
    "        # Backpropagation\n",
    "        optimizer.zero_grad()\n",
    "        loss.backward()\n",
    "        optimizer.step()\n",
    "\n",
    "        # Report loss every 100 batch\n",
    "        if batch % 100 == 0:\n",
    "            loss, current = loss.item(), batch * len(X)\n",
    "            print(f\"loss: {loss:>7f}  [{current:>5d}/{size:>5d}]\")\n",
    "\n",
    "\n",
    "def test_loop(dataloader, model, loss_fn):\n",
    "    size = len(dataloader.dataset)\n",
    "    num_batches = len(dataloader)\n",
    "    test_loss, correct = 0, 0\n",
    "\n",
    "    # Prevent Pytorch from updating the gradients at the testing steps!\n",
    "    with torch.no_grad():\n",
    "        for X, y in dataloader:\n",
    "            pred = model(X)\n",
    "            test_loss += loss_fn(pred, y).item()\n",
    "            correct += (pred.argmax(1) == y).type(torch.float).sum().item()\n",
    "\n",
    "    test_loss /= num_batches\n",
    "    correct /= size\n",
    "    print(f\"Test Error: \\n Accuracy: {(100*correct):>0.1f}%, Avg loss: {test_loss:>8f} \\n\")\n",
    "    return test_loss"
   ]
  },
  {
   "cell_type": "code",
   "execution_count": null,
   "metadata": {
    "id": "6cdBCxuTyyg9"
   },
   "outputs": [],
   "source": [
    "from torch.optim.lr_scheduler import ReduceLROnPlateau\n",
    "epochs = 50\n",
    "learning_rate = 1e-3\n",
    "\n",
    "loss_fn = nn.CrossEntropyLoss() # loss function for classification\n",
    "optimizer = torch.optim.SGD(net.parameters(), lr=learning_rate) # Optimizer\n",
    "scheduler = ReduceLROnPlateau(optimizer, \"min\")\n",
    "\n",
    "for t in range(epochs):\n",
    "    print(f\"Epoch {t+1}\\n-------------------------------\")\n",
    "    train_loop(train_dataloader, net, loss_fn, optimizer)\n",
    "    val_loss = test_loop(val_dataloader, net, loss_fn, optimizer)\n",
    "    scheduler.step(val_loss)\n",
    "print(\"Done!\")"
   ]
  }
 ],
 "metadata": {
  "language_info": {
   "name": "python"
  },
  "orig_nbformat": 4
 },
 "nbformat": 4,
 "nbformat_minor": 2
}
