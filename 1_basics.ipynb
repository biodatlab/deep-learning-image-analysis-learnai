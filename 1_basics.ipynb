{
 "cells": [
  {
   "cell_type": "markdown",
   "metadata": {
    "id": "9NSMHo-fCrR9"
   },
   "source": [
    "[![Open in Colab](https://colab.research.google.com/assets/colab-badge.svg)](https://colab.research.google.com/drive/1r0RTa6FGzQecpUhAS-n7c_LEPMpNx2_O)\n",
    "\n",
    "# **อารัมภบทสู่การเขียน Deep learning ด้วย Pytorch**\n",
    "\n",
    "การประมวลผมของ Neural Network หรือ Deep learning ใช้พีชคณิต (algebra) ที่คำนวณในชุดตัวเลขที่เรียกว่าเทนเซอร์ (Tensors) เป็นหลัก โดยเราสามารถเขียนเวกเตอร์ได้เป็นเทนเซอร์ที่มีจำนวน 1 มิติ และสามารถเขียนเมทริกซ์ได้เป็นเทนเซอร์ที่มีจำนวน 2 มิติ\n",
    "\n",
    "เทนเซอร์เป็นหนึ่งใน data structure ที่สำคัญต่อการเขียน Neural network และไลบรารี่ Pytorch เราสามารถดูตัวอย่างของเทนเซอร์ได้ตามด้านล่าง\n",
    "\n",
    "<img src=\"images/01_tensor.png\" width=\"600\"/>\n",
    "\n",
    "อ้างอิง: [udacity/deep-learning-v2-pytorch](https://github.com/udacity/deep-learning-v2-pytorch)"
   ]
  },
  {
   "cell_type": "markdown",
   "metadata": {},
   "source": [
    "## **พื้นฐานการใช้ Pytorch เบื้องต้น**\n",
    "\n",
    "ใน Notebook นี้เราจะมาสำรวจการทำงานของไลบรารี่ Pytorch เบื้องต้น ได้แก่ การสร้างเทนเซอร์ (Tensor) และการดำเนินทางคณิตศาสตร์ (Operations) ที่ใช้งานบ่อยใน Pytorch กัน"
   ]
  },
  {
   "cell_type": "code",
   "execution_count": null,
   "metadata": {
    "id": "EVzi8_1_GEFz"
   },
   "outputs": [],
   "source": [
    "import torch\n",
    "import numpy as np"
   ]
  },
  {
   "cell_type": "code",
   "execution_count": null,
   "metadata": {},
   "outputs": [],
   "source": [
    "torch.cuda.is_available() # ตรวจสอบว่ามี CUDA หรือ GPU ที่สามารถใช้ได้หรือไม่\n",
    "device = \"cuda\" if torch.cuda.is_available() else \"cpu\" # เลือก device เป็น \"cuda\" ถ้ามี ถ้าไม่มีเปลี่ยนเป็น \"cpu\" แทน"
   ]
  },
  {
   "cell_type": "code",
   "execution_count": null,
   "metadata": {
    "id": "FFa3dEFRHCIl"
   },
   "outputs": [],
   "source": [
    "# (https://towardsdatascience.com/understanding-pytorch-with-an-example-a-step-by-step-tutorial-81fc5f8c4e8e#ea0d)\n",
    "\n",
    "## สร้าง Tensor ด้วย torch.tensor\n",
    "t0 = torch.tensor([1,2]) # ถ้าไม่กำหนดประเภทของ Tensor เราจะได้ประเภทของ Tensor ตามที่กำหนด\n",
    "t1 = torch.tensor([1,2], dtype=torch.float) # กำหนดให้สร้าง teosor เป็นชนิด float \n",
    "t2 = torch.tensor([1,2], dtype=torch.float, requires_grad=True) # set as \"trainable\"\n",
    "t3 = torch.tensor([1,2], dtype=torch.float, requires_grad=True, device=device) # send to gpu \n",
    "for i, t in enumerate([t0, t1, t2, t3]):\n",
    "    print(f\"Tensor No.{i}: {t}\")\n",
    "    print(\"=\"*50)"
   ]
  },
  {
   "cell_type": "code",
   "execution_count": null,
   "metadata": {
    "colab": {
     "base_uri": "https://localhost:8080/"
    },
    "id": "SAnXSTPrIrVK",
    "outputId": "cb483b99-c07d-45b0-845b-1ecbe27aa157"
   },
   "outputs": [],
   "source": [
    "## เราสามารถเปลี่ยนชนิดของ tensor, ทำให้ tensor สามาถหา gradient ได้, หรือย้าย tensor ไปใน hardward อื่นๆได้\n",
    "\n",
    "t0 = torch.tensor([1,2])\n",
    "t1 = t0.float()\n",
    "t2 = t1.clone().requires_grad_() # กำหนดให้ t2 สามารถหา gradient ได้ (หรืออยู่ในโหมดที่ \"trainable\" นั่นเอง)\n",
    "t3 = t2.to(\"cuda\") # send to gpu\n",
    "\n",
    "for i, t in enumerate([t0, t1, t2, t3]):\n",
    "    print(f\"Tensor No.{i}: {t}\")\n",
    "    print(\"=\"*50)"
   ]
  },
  {
   "cell_type": "code",
   "execution_count": null,
   "metadata": {
    "colab": {
     "base_uri": "https://localhost:8080/"
    },
    "id": "oRg-8wse3h6T",
    "outputId": "fcb370ae-d474-40a5-da32-67ca7050f7fb"
   },
   "outputs": [],
   "source": [
    "# https://deeplearning.neuromatch.io/tutorials/W1D1_BasicsAndPytorch/student/W1D1_Tutorial1.html#section-2-1-creating-tensors\n",
    "\n",
    "# สร้าง tensor จาก list\n",
    "a = torch.tensor([0, 1, 2])\n",
    "## Output: tensor([0, 1, 2])\n",
    "\n",
    "# สร้าง tensor จาก tuple ใน tuples\n",
    "b = ((1.0, 1.1), (1.2, 1.3))\n",
    "b = torch.tensor(b)\n",
    "## Output: tensor([[1.0000, 1.1000], [1.2000, 1.3000]])\n",
    "\n",
    "# สร้าง tensor จาก a numpy\n",
    "c = np.ones([2, 3])\n",
    "c = torch.tensor(c)\n",
    "## Output: tensor([[1., 1., 1.], [1., 1., 1.]], dtype=torch.float64)\n",
    "\n",
    "print(f\"Tensor a: {a}\")\n",
    "print(f\"Tensor b: {b}\")\n",
    "print(f\"Tensor c: {c}\")"
   ]
  },
  {
   "cell_type": "code",
   "execution_count": null,
   "metadata": {},
   "outputs": [],
   "source": [
    "# สร้าง Pytorch จาก Numpy  ด้วย torch.from_numpy\n",
    "A = np.random.rand(3, 4)\n",
    "print(\"Array A, \\n\", A)\n",
    "B = torch.from_numpy(A)\n",
    "print(\"Tensor B, \\n\", B)"
   ]
  },
  {
   "cell_type": "code",
   "execution_count": null,
   "metadata": {},
   "outputs": [],
   "source": [
    "# ตรวจสอบขนาดของ Tensor ด้วย B.shape หรือ B.size()\n",
    "print(B.shape)\n",
    "print(B.size())"
   ]
  },
  {
   "cell_type": "code",
   "execution_count": null,
   "metadata": {
    "colab": {
     "base_uri": "https://localhost:8080/"
    },
    "id": "7yd5eo323lmi",
    "outputId": "acb87329-e5fd-4345-e05f-a46b6b444c0a"
   },
   "outputs": [],
   "source": [
    "# สร้าง tensor ที่มีค่า 1, 0, ไม่มีค่าเริ่มต้น\n",
    "\n",
    "x = torch.ones(5, 3)\n",
    "y = torch.zeros(2)\n",
    "z = torch.empty(1, 1, 5)\n",
    "print(f\"Tensor x: {x}\")\n",
    "print(f\"Tensor y: {y}\")\n",
    "print(f\"Tensor z: {z}\")"
   ]
  },
  {
   "cell_type": "code",
   "execution_count": null,
   "metadata": {
    "colab": {
     "base_uri": "https://localhost:8080/"
    },
    "id": "rGBJ4ZJ13q2q",
    "outputId": "34b45343-16e2-4512-fdf3-4d1e8b30c9ff"
   },
   "outputs": [],
   "source": [
    "# There are also constructors for random numbers\n",
    "\n",
    "# สร้าง tensor ขนาด 1 x 3 ที่ค่าได้จากการสุ่มจาก uniform distribution (0 ถึง 1)\n",
    "a = torch.rand(1, 3)\n",
    "\n",
    "# สร้าง tensor ขนาด 3 x 4 ที่ค่าได้จากการสุ่มจาก normal distribution\n",
    "b = torch.randn(3, 4)\n",
    "\n",
    "# สร้าง tensor c ที่มีค่า 0 และมีขนาดเท่ากับ tensor a\n",
    "c = torch.zeros_like(a)\n",
    "\n",
    "# สร้าง tensor d ที่มีค่่าสุ่มจากการกระจายตัวแบบ uniform distribution และมีขนาดเท่า c\n",
    "d = torch.rand_like(c)\n",
    "\n",
    "print(f\"Tensor a: {a}\")\n",
    "print(f\"Tensor b: {b}\")\n",
    "print(f\"Tensor c: {c}\")\n",
    "print(f\"Tensor d: {d}\")"
   ]
  },
  {
   "cell_type": "markdown",
   "metadata": {
    "id": "lnBbj5VN3v0X"
   },
   "source": [
    "### Tensor operations"
   ]
  },
  {
   "cell_type": "code",
   "execution_count": null,
   "metadata": {
    "colab": {
     "base_uri": "https://localhost:8080/"
    },
    "id": "V1AM9rkA3xqm",
    "outputId": "935974bc-917b-43e4-8fcc-5cca9edd97e3"
   },
   "outputs": [],
   "source": [
    "a = torch.ones(5, 3) # สร้าง tensor ที่มีค่า 1 ขนาด 5 แถว x 3 หลัก\n",
    "b = torch.rand(5, 3) # สร้าง tensor ที่สุ่มค่าระหว่าง 0 ถึง 1 ขนาด 5 แถว x 3 หลัก\n",
    "c = torch.empty(5, 3) # สร้าง tensor เปล่า (มีค่าแต่ค่าเริ่มต้นแต่ค่าไม่เจาะจง) ขนาด 5 แถว x 3 หลัก\n",
    "d = torch.empty(5, 3)\n",
    "\n",
    "# ใช้ได้เมื่อ c และ d ได้ถูกสร้างไว้แล้ว\n",
    "torch.add(a, b, out=c) \n",
    "\n",
    "# ทำการคูณตามตำแหน่งหรือ Pointwise Multiplication ระหว่าง a และ b\n",
    "torch.multiply(a, b, out=d)\n",
    "\n",
    "print(a + b)\n",
    "print(c)\n",
    "print(d)"
   ]
  },
  {
   "cell_type": "code",
   "execution_count": null,
   "metadata": {},
   "outputs": [],
   "source": [
    "# เราสามารถใช้ `.mul_(2)` เพื่อเขียน operation ที่กระทำกับตัว Tensor เดิมได้ เช่น a.mul_(2) จะทำการคูณ 2 ไปใน tensor เดิมที่สร้างขึ้น\n",
    "# เทียบเท่ากับ inplace ในไลบรารี่ pandas\n",
    "a = torch.ones(2, 3)\n",
    "print(a)\n",
    "a.mul_(2)\n",
    "print(a)"
   ]
  },
  {
   "cell_type": "code",
   "execution_count": null,
   "metadata": {},
   "outputs": [],
   "source": [
    "# ทำการบวก 3 เข้าไปใน Tensor ที่มีค่า 1 ขนาด 2 x 3 ที่สร้างขึ้น\n",
    "a = torch.ones(2, 3)\n",
    "a.add_(3)"
   ]
  },
  {
   "cell_type": "code",
   "execution_count": null,
   "metadata": {
    "colab": {
     "base_uri": "https://localhost:8080/"
    },
    "id": "KmVIEZ1632VX",
    "outputId": "9cf8fcb9-0742-4609-d54a-c5773a1edd14"
   },
   "outputs": [],
   "source": [
    "x = torch.rand(3, 3)\n",
    "print(x)\n",
    "print(\"\\n\")\n",
    "# sum() - note the axis is the axis you move across when summing\n",
    "print(f\"Sum of every element of x: {x.sum()}\")\n",
    "print(f\"Sum of the columns of x: {x.sum(axis=0)}\")\n",
    "print(f\"Sum of the rows of x: {x.sum(axis=1)}\")\n",
    "print(\"\\n\")\n",
    "\n",
    "print(f\"Mean value of all elements of x {x.mean()}\")\n",
    "print(f\"Mean values of the columns of x {x.mean(axis=0)}\")\n",
    "print(f\"Mean values of the rows of x {x.mean(axis=1)}\")"
   ]
  },
  {
   "cell_type": "code",
   "execution_count": null,
   "metadata": {
    "colab": {
     "base_uri": "https://localhost:8080/"
    },
    "id": "_mgUIAPh3_VU",
    "outputId": "e6dddc80-8a32-407a-e806-bf6e56dba017"
   },
   "outputs": [],
   "source": [
    "a1 = torch.tensor([[2, 4], [5, 7]])\n",
    "a2 = torch.tensor([[1, 1], [2, 3]])\n",
    "a3 = torch.tensor([[10, 10], [12, 1]])\n",
    "\n",
    "a1 @ a2 + a3"
   ]
  },
  {
   "cell_type": "code",
   "execution_count": null,
   "metadata": {
    "colab": {
     "base_uri": "https://localhost:8080/"
    },
    "id": "M3QpN4bvHYuH",
    "outputId": "457a6fbd-7443-4704-bb81-fdf0729234e2"
   },
   "outputs": [],
   "source": [
    "# อ้างอิง: https://www.geeksforgeeks.org/python-pytorch-stack-method/\n",
    "\n",
    "a1 = torch.tensor([1, 2, 3, 4])\n",
    "a2 = torch.tensor([5, 6, 7, 8])\n",
    "\n",
    "a_stacked_0 = torch.stack((a1, a2), dim = 0) # ทับ\n",
    "# Output: tensor([[1, 2, 3, 4],\n",
    "#                 [5, 6, 7, 8]])\n",
    "\n",
    "a_stacked_1 = torch.stack((a1, a2), dim = 1) # แปะข้างๆ\n",
    "# Output: tensor([[1, 5],\n",
    "#                 [2, 6],\n",
    "#                 [3, 7],\n",
    "#                 [4, 8]])"
   ]
  },
  {
   "cell_type": "code",
   "execution_count": null,
   "metadata": {
    "colab": {
     "base_uri": "https://localhost:8080/"
    },
    "id": "UNxyg2Dibzxy",
    "outputId": "74d1376d-3cd5-4198-a37e-91cf3f150e97"
   },
   "outputs": [],
   "source": [
    "a1 = torch.tensor([1, 2, 3, 4])\n",
    "\n",
    "print(a1.view(4,1))\n",
    "# Output: tensor([[1],\n",
    "#                 [2],\n",
    "#                 [3],\n",
    "#                 [4]])\n",
    "\n",
    "print(a1.view(2,2))\n",
    "# Output: tensor([[1, 2],\n",
    "                # [3, 4]])\n",
    "\n",
    "print(a1.view(-1, 2))\n",
    "# Output: tensor([[1, 2],\n",
    "#                 [3, 4]])"
   ]
  },
  {
   "cell_type": "code",
   "execution_count": null,
   "metadata": {
    "colab": {
     "base_uri": "https://localhost:8080/"
    },
    "id": "1KdFGhu9dfWO",
    "outputId": "e2c238f0-2543-471c-d751-d78a2e48783f"
   },
   "outputs": [],
   "source": [
    "a2 = torch.tensor([1, 2, 3, 4, 5, 6, 7, 8])\n",
    "\n",
    "print(a2.view(2,2,2))\n",
    "# Output: tensor([[[1, 2],\n",
    "#                  [3, 4]],\n",
    "\n",
    "#                 [[5, 6],\n",
    "#                  [7, 8]]])"
   ]
  },
  {
   "cell_type": "code",
   "execution_count": null,
   "metadata": {
    "colab": {
     "base_uri": "https://localhost:8080/"
    },
    "id": "j8MPgyjLe-of",
    "outputId": "7c66168b-8338-4b80-a86e-5733443b41cb"
   },
   "outputs": [],
   "source": [
    "a3 = a2.view(1,8)\n",
    "print(a3.size())\n",
    "# Output: torch.Size([1, 8])\n",
    "\n",
    "a3_t = torch.transpose(a3, 0, 1) # swap dim 0 and 1.\n",
    "print(a3_t.size())\n",
    "# Output: torch.Size([8, 1])\n",
    "\n",
    "print(\"=\"*50)\n",
    "\n",
    "a4 = a2.view(4,2,1)\n",
    "print(a4.size())\n",
    "# Output: torch.Size([4, 2, 1])\n",
    "\n",
    "a4_t = torch.transpose(a4, 0, 1) # swap dim 0 and 1\n",
    "print(a4_t.size())\n",
    "# Output: torch.Size([2, 4, 1])"
   ]
  },
  {
   "cell_type": "code",
   "execution_count": null,
   "metadata": {},
   "outputs": [],
   "source": [
    "# ทดลองใช้ squeeze เพื่อลด dimension ของ tensor\n",
    "a5 = torch.ones((1, 3, 3))\n",
    "print(a5.shape)\n",
    "print(a5)\n",
    "a5.squeeze_(0)\n",
    "print(a5.shape)\n",
    "print(a5)"
   ]
  },
  {
   "cell_type": "markdown",
   "metadata": {
    "id": "viajwFHkKeeA"
   },
   "source": [
    "## Neural Networks\n"
   ]
  },
  {
   "cell_type": "code",
   "execution_count": null,
   "metadata": {
    "id": "1MVTmcyfKhtr"
   },
   "outputs": [],
   "source": [
    "# อ้างอิง: https://pytorch.org/tutorials/beginner/blitz/neural_networks_tutorial.html\n",
    "\n",
    "import torch\n",
    "import torch.nn as nn\n",
    "import torch.nn.functional as F\n",
    "\n",
    "class Net(nn.Module):\n",
    "    def __init__(self):\n",
    "        super(Net, self).__init__()\n",
    "        self.flatten = nn.Flatten()\n",
    "        # 28 * 28 is the image dimension\n",
    "        self.fc1 = nn.Linear(28 * 28, 28)\n",
    "        # 10 is the total number of classes\n",
    "        self.fc2 = nn.Linear(28, 10)\n",
    "\n",
    "    def forward(self, x):\n",
    "        x = self.flatten(x)\n",
    "        x = self.fc1(x)\n",
    "        x = F.relu(x) # optionally apply some non-linearity here\n",
    "        x = self.fc2(x)\n",
    "        return x"
   ]
  },
  {
   "cell_type": "code",
   "execution_count": null,
   "metadata": {
    "colab": {
     "base_uri": "https://localhost:8080/"
    },
    "id": "tNLROgizPXzf",
    "outputId": "30ecc21b-9ffe-430f-c677-c71ffbbf5882"
   },
   "outputs": [],
   "source": [
    "net = Net()\n",
    "print(net)\n",
    "print(\"=\"*50)\n",
    "\n",
    "input = torch.randn(1, 28, 28) # ignore 1 for now\n",
    "out = net(input)\n",
    "print(f\"Output shape: {out.shape}\")"
   ]
  },
  {
   "cell_type": "markdown",
   "metadata": {
    "id": "bLVLuHOtfsbY"
   },
   "source": [
    "## Loss\n",
    "\n",
    "ไลบรารี่ `torch` ได้เขียนคำสั่งที่ช่วยในการคำนวณ loss หรือ operations ต่างๆที่ใช้ระหว่างการเทรนโมเดลใน `torch.nn.functional` ซึ่งโดยส่วนมากเราจะสามารถ import มาได้ด้วยคำสั่ง \n",
    "\n",
    "```py\n",
    "import torch.nn.functional as F\n",
    "```"
   ]
  },
  {
   "cell_type": "code",
   "execution_count": null,
   "metadata": {
    "colab": {
     "base_uri": "https://localhost:8080/"
    },
    "id": "2UWBSk6sfuQ1",
    "outputId": "9d19d2df-b44f-4015-962a-4d165ac46792"
   },
   "outputs": [],
   "source": [
    "import torch\n",
    "import torch.nn as nn\n",
    "import torch.nn.functional as F\n",
    "\n",
    "## 1/3 incorrect\n",
    "labels = torch.tensor([1, 1, 0], dtype=torch.float) # Dog, Dog, Cat\n",
    "predictions = torch.tensor([1, 0, 0], dtype=torch.float, requires_grad=True) # Dog, Cat, Cat\n",
    "\n",
    "loss_fn = nn.BCELoss(reduction=\"mean\")\n",
    "loss = loss_fn(predictions, labels)\n",
    "\n",
    "\n",
    "loss # tensor(33.3333, grad_fn=<BinaryCrossEntropyBackward0>)"
   ]
  },
  {
   "cell_type": "markdown",
   "metadata": {
    "id": "HNJBWXOQj70k"
   },
   "source": [
    "## Gradients"
   ]
  },
  {
   "cell_type": "code",
   "execution_count": null,
   "metadata": {
    "colab": {
     "base_uri": "https://localhost:8080/"
    },
    "id": "BRlP2gpZj98S",
    "outputId": "bb37a977-8051-4959-f06d-70097ee72fc8"
   },
   "outputs": [],
   "source": [
    "a = torch.tensor([1.5], requires_grad=True)\n",
    "b = torch.tensor([-1.5], requires_grad=True)\n",
    "c = a + b\n",
    "print(f'Gradient function = {c.grad_fn}')"
   ]
  },
  {
   "cell_type": "code",
   "execution_count": null,
   "metadata": {
    "id": "QcS9an07zCmM"
   },
   "outputs": [],
   "source": [
    "loss.backward()"
   ]
  },
  {
   "cell_type": "markdown",
   "metadata": {},
   "source": [
    "การหา `Gradient` โดยอัตโนมัติมีพื้นฐานจาก `autograd` ซึ่งเป็นหนึ่งในการทำงานที่ทรงพลังมากๆของไลบรารี่ Pytorch เราสามารถลองหา Gradient ของฟังก์ชั่นโดยใช้ Pytorch ได้ตามตัวอย่างด้านล่าง"
   ]
  },
  {
   "cell_type": "code",
   "execution_count": null,
   "metadata": {},
   "outputs": [],
   "source": [
    "# กำหนดให้ x มีค่า = 10 และสร้างฟังก์ชั่น f(x) = x^2 - 4x\n",
    "x = torch.tensor(10, dtype=torch.float, requires_grad=True)  \n",
    "cost = torch.sum(x * x - 4 * x)\n",
    "cost.backward(retain_graph=True)\n",
    "print(x.grad) # gradient หรือความชันของ f(x) ที่ x = 10 มีค่าเท่ากับ f'(x) = 2x - 4 = 2*10 - 4 = 16"
   ]
  },
  {
   "cell_type": "markdown",
   "metadata": {
    "id": "qkfOXWBpRvLu"
   },
   "source": [
    "## Datasets & Dataloaders\n",
    "\n",
    "นอกจากนั้นเรายังสามารถสร้าง Class, `Dataset` เพื่อกำหนดชุดข้อมูล รวมถึง `DataLoader` ที่สามารถทำให้เราสามารถดึงชุดข้อมูลออกมาเป็น batch ได้ เราจะได้เขียนการดึงข้อมูลเพื่อใส่เข้าไปในโมเดลในการเรียนถัดๆไป\n",
    "\n",
    "ชุดโค้ดด้านล่างเป็น template เพื่อให้ผู้เรียนได้เห็นภาพการ Neural network มากยิ่งขึ้น"
   ]
  },
  {
   "cell_type": "code",
   "execution_count": null,
   "metadata": {
    "id": "oMbhwn4mRxvU"
   },
   "outputs": [],
   "source": [
    "from torch.utils.data import Dataset\n",
    "# import pandas as pd\n",
    "\n",
    "class AnimalDataset(Dataset):\n",
    "    def __init__(self, filenames, labels):\n",
    "        self.filenames = filenames\n",
    "        self.labels = labels\n",
    "\n",
    "    ## An alternative...\n",
    "    # def __init__(self, dataframe):\n",
    "    #     self.filenames = list(dataframe[\"filenames\"].values)\n",
    "    #     self.labels = list(dataframe[\"labels\"].values)\n",
    "        \n",
    "    def __getitem__(self, index):\n",
    "        return (self.filenames[index], self.labels[index])\n",
    "\n",
    "    def __len__(self):\n",
    "        return len(self.filenames)\n",
    "\n",
    "train_data = AnimalDataset(train_filenames, train_labels)"
   ]
  },
  {
   "cell_type": "code",
   "execution_count": null,
   "metadata": {
    "id": "E6Bk8kXfyMoL"
   },
   "outputs": [],
   "source": [
    "from torch.utils.data import DataLoader\n",
    "\n",
    "train_loader = DataLoader(dataset=train_data, batch_size=16, shuffle=True)"
   ]
  },
  {
   "cell_type": "code",
   "execution_count": null,
   "metadata": {
    "id": "41UK2wYuyeQu"
   },
   "outputs": [],
   "source": [
    "# https://pytorch.org/tutorials/beginner/basics/optimization_tutorial.html#optimizer\n",
    "\n",
    "def train_loop(dataloader, model, loss_fn, optimizer):\n",
    "    size = len(dataloader.dataset)\n",
    "    # Iterate over the dataloader\n",
    "    for batch, (X, y) in enumerate(dataloader):\n",
    "        # Compute prediction and loss\n",
    "        pred = model(X)\n",
    "        loss = loss_fn(pred, y)\n",
    "\n",
    "        # Backpropagation\n",
    "        optimizer.zero_grad()\n",
    "        loss.backward()\n",
    "        optimizer.step()\n",
    "\n",
    "        # Report loss every 100 batch\n",
    "        if batch % 100 == 0:\n",
    "            loss, current = loss.item(), batch * len(X)\n",
    "            print(f\"loss: {loss:>7f}  [{current:>5d}/{size:>5d}]\")\n",
    "\n",
    "\n",
    "def test_loop(dataloader, model, loss_fn):\n",
    "    size = len(dataloader.dataset)\n",
    "    num_batches = len(dataloader)\n",
    "    test_loss, correct = 0, 0\n",
    "\n",
    "    # Prevent Pytorch from updating the gradients at the testing steps!\n",
    "    with torch.no_grad():\n",
    "        for X, y in dataloader:\n",
    "            pred = model(X)\n",
    "            test_loss += loss_fn(pred, y).item()\n",
    "            correct += (pred.argmax(1) == y).type(torch.float).sum().item()\n",
    "\n",
    "    test_loss /= num_batches\n",
    "    correct /= size\n",
    "    print(f\"Test Error: \\n Accuracy: {(100*correct):>0.1f}%, Avg loss: {test_loss:>8f} \\n\")\n",
    "    return test_loss"
   ]
  },
  {
   "cell_type": "code",
   "execution_count": null,
   "metadata": {
    "id": "6cdBCxuTyyg9"
   },
   "outputs": [],
   "source": [
    "from torch.optim.lr_scheduler import ReduceLROnPlateau\n",
    "epochs = 50\n",
    "learning_rate = 1e-3\n",
    "\n",
    "loss_fn = nn.CrossEntropyLoss() # loss function for classification\n",
    "optimizer = torch.optim.SGD(net.parameters(), lr=learning_rate) # Optimizer\n",
    "scheduler = ReduceLROnPlateau(optimizer, \"min\")\n",
    "\n",
    "for t in range(epochs):\n",
    "    print(f\"Epoch {t+1}\\n-------------------------------\")\n",
    "    train_loop(train_dataloader, net, loss_fn, optimizer)\n",
    "    val_loss = test_loop(val_dataloader, net, loss_fn, optimizer)\n",
    "    scheduler.step(val_loss)\n",
    "print(\"Done!\")"
   ]
  },
  {
   "cell_type": "markdown",
   "metadata": {},
   "source": [
    "## **Exercise**\n",
    "\n",
    "1. กำหนดฟังก์ชัน $f(x) = sin(x) + cos(x)$, จงหา $df(x)/dx$ เมื่อ $x = \\pi$ โดยใช้ Pytorch\n",
    "2. จงหา dot product ของ Tensor 2 ตัวต่อไปนี้ ด้วยคำสั่ง `dot`\n",
    "\n",
    "``` py\n",
    "v1 = torch.tensor([1, 2])\n",
    "v2 = torch.tensor([3, -5])\n",
    "```\n",
    "\n",
    "หาค่าของ dot product ระหว่างเวกเตอร์ `v1` และ `v2`\n",
    "\n",
    "3. ทดลองใช้ `torchvision` อ่านข้อมูล และแสดงผล\n",
    "\n",
    "3.1 ทดลองใช้ `torchvision` เพื่อลองดาวน์โหลดชุดข้อมูล FashionMNIST จากนั้นลองใช้ Dataloader ดึงข้อมูลออกมาดังด้านต่อไปนี้\n",
    "\n",
    "``` py\n",
    "from torch.utils.data import DataLoader \n",
    "from torchvision import datasets\n",
    "from torchvision.transforms import ToTensor\n",
    "\n",
    "test_data = datasets.FashionMNIST(\n",
    "    root=\"data\",\n",
    "    train=False,\n",
    "    download=True,\n",
    "    transform=ToTensor()\n",
    ")\n",
    "test_loader = DataLoader(training_data, batch_size=16, shuffle=False)\n",
    "data, labels = next(iter(test_loader))\n",
    "print(data.shape, labels.shape)\n",
    "```\n",
    "\n",
    "ในกรณีนี้เราทำการดึงชุดข้อมูลออกมา ด้วย `batch_size = 16` เพื่อให้ได้ชุดข้อมูลและ labels จงพิจารณา `data` และ `labels` และคิดว่าขนาดของแต่ละ dimensions หมายถึงอะไรบ้าง\n",
    "\n",
    "3.2 หลังจากนั้นลองแสดงผลข้อมูล data ออกมา 1 ภาพด้วยคำสั่งต่อไปนี้\n",
    "\n",
    "```py\n",
    "import matplotlib.pyplot as plt\n",
    "\n",
    "plt.imshow(data[0, :, :, :].squeeze(0), cmap=\"gray\")\n",
    "plt.show()\n",
    "```\n",
    "\n",
    "แสดงผลภาพและอธิบายว่าได้ภาพอะไรจากการรันโค้ดนี้"
   ]
  }
 ],
 "metadata": {
  "kernelspec": {
   "display_name": "Python 3",
   "language": "python",
   "name": "python3"
  },
  "language_info": {
   "codemirror_mode": {
    "name": "ipython",
    "version": 3
   },
   "file_extension": ".py",
   "mimetype": "text/x-python",
   "name": "python",
   "nbconvert_exporter": "python",
   "pygments_lexer": "ipython3",
   "version": "3.7.4"
  },
  "vscode": {
   "interpreter": {
    "hash": "a2a344cc8269451be292df9fb07df2607f71d7304dd683c993c608f0927a913c"
   }
  }
 },
 "nbformat": 4,
 "nbformat_minor": 2
}
